{
 "cells": [
  {
   "cell_type": "code",
   "execution_count": 1,
   "metadata": {},
   "outputs": [],
   "source": [
    "import data_vault"
   ]
  },
  {
   "cell_type": "code",
   "execution_count": 2,
   "metadata": {},
   "outputs": [
    {
     "name": "stderr",
     "output_type": "stream",
     "text": [
      "/home/krassowski/.pyenv/versions/3.8.1/envs/nbpipeline/lib/python3.8/site-packages/data_vault/__init__.py:65: UserWarning: Encryption variable not set - no encryption will be used. Your data may be susceptible, and you may not be able to access stored objects if those were previously encrypted. Please provide the name of the environment variable with the storage key using `-e env_var_name`, or set `--secure False` to silence this warning if you do not need additional protection.\n",
      "  warn(\n"
     ]
    }
   ],
   "source": [
    "%open_vault"
   ]
  },
  {
   "cell_type": "code",
   "execution_count": 3,
   "metadata": {
    "tags": [
     "parameters"
    ]
   },
   "outputs": [
    {
     "data": {
      "text/markdown": [
       "Imported `input_df` (3213A9CE) at Tuesday, 31. Mar 2020 21:14"
      ],
      "text/plain": [
       "<IPython.core.display.Markdown object>"
      ]
     },
     "metadata": {
      "text/markdown": {
       "action": "import",
       "command": "import input_df from io",
       "finished": "2020-03-31T21:14:49.040904",
       "finished_human_readable": "Tuesday, 31. Mar 2020 21:14",
       "result": [
        {
         "new_file": {
          "crc32": "3213A9CE",
          "sha256": "164B9312CAA922112011F6EF3A55CF3A8124A19457EFC33594ADEF477F9C8B56"
         },
         "subject": "input_df"
        }
       ],
       "started": "2020-03-31T21:14:48.919373"
      }
     },
     "output_type": "display_data"
    }
   ],
   "source": [
    "%vault import input_df from io"
   ]
  },
  {
   "cell_type": "code",
   "execution_count": 4,
   "metadata": {},
   "outputs": [
    {
     "data": {
      "text/markdown": [
       "Imported:\n",
       "\n",
       " - `a` (D0B714E7)\n",
       " - `b` (D0B714E7)\n",
       "\n",
       "at Tuesday, 31. Mar 2020 21:14"
      ],
      "text/plain": [
       "<IPython.core.display.Markdown object>"
      ]
     },
     "metadata": {
      "text/markdown": {
       "action": "import",
       "command": "import a, b from io",
       "finished": "2020-03-31T21:14:49.134344",
       "finished_human_readable": "Tuesday, 31. Mar 2020 21:14",
       "result": [
        {
         "new_file": {
          "crc32": "D0B714E7",
          "sha256": "E0E67376A5D3801AF31536DE052E22B60F16DF00647E034A977DD12C68970511"
         },
         "subject": "a"
        },
        {
         "new_file": {
          "crc32": "D0B714E7",
          "sha256": "E0E67376A5D3801AF31536DE052E22B60F16DF00647E034A977DD12C68970511"
         },
         "subject": "b"
        }
       ],
       "started": "2020-03-31T21:14:49.055366"
      }
     },
     "output_type": "display_data"
    }
   ],
   "source": [
    "%vault import a, b from io"
   ]
  },
  {
   "cell_type": "code",
   "execution_count": 5,
   "metadata": {},
   "outputs": [
    {
     "data": {
      "text/html": [
       "<div>\n",
       "<style scoped>\n",
       "    .dataframe tbody tr th:only-of-type {\n",
       "        vertical-align: middle;\n",
       "    }\n",
       "\n",
       "    .dataframe tbody tr th {\n",
       "        vertical-align: top;\n",
       "    }\n",
       "\n",
       "    .dataframe thead th {\n",
       "        text-align: right;\n",
       "    }\n",
       "</style>\n",
       "<table border=\"1\" class=\"dataframe\">\n",
       "  <thead>\n",
       "    <tr style=\"text-align: right;\">\n",
       "      <th></th>\n",
       "      <th>id</th>\n",
       "      <th>name</th>\n",
       "    </tr>\n",
       "  </thead>\n",
       "  <tbody>\n",
       "    <tr>\n",
       "      <th>0</th>\n",
       "      <td>0</td>\n",
       "      <td>A</td>\n",
       "    </tr>\n",
       "    <tr>\n",
       "      <th>1</th>\n",
       "      <td>1</td>\n",
       "      <td>B</td>\n",
       "    </tr>\n",
       "  </tbody>\n",
       "</table>\n",
       "</div>"
      ],
      "text/plain": [
       "   id name\n",
       "0   0    A\n",
       "1   1    B"
      ]
     },
     "execution_count": 5,
     "metadata": {},
     "output_type": "execute_result"
    }
   ],
   "source": [
    "input_df"
   ]
  },
  {
   "cell_type": "code",
   "execution_count": 6,
   "metadata": {},
   "outputs": [
    {
     "data": {
      "text/html": [
       "<div>\n",
       "<style scoped>\n",
       "    .dataframe tbody tr th:only-of-type {\n",
       "        vertical-align: middle;\n",
       "    }\n",
       "\n",
       "    .dataframe tbody tr th {\n",
       "        vertical-align: top;\n",
       "    }\n",
       "\n",
       "    .dataframe thead th {\n",
       "        text-align: right;\n",
       "    }\n",
       "</style>\n",
       "<table border=\"1\" class=\"dataframe\">\n",
       "  <thead>\n",
       "    <tr style=\"text-align: right;\">\n",
       "      <th></th>\n",
       "      <th>id</th>\n",
       "      <th>name</th>\n",
       "      <th>new_update</th>\n",
       "    </tr>\n",
       "  </thead>\n",
       "  <tbody>\n",
       "    <tr>\n",
       "      <th>0</th>\n",
       "      <td>0</td>\n",
       "      <td>A</td>\n",
       "      <td>1</td>\n",
       "    </tr>\n",
       "    <tr>\n",
       "      <th>1</th>\n",
       "      <td>1</td>\n",
       "      <td>B</td>\n",
       "      <td>1</td>\n",
       "    </tr>\n",
       "  </tbody>\n",
       "</table>\n",
       "</div>"
      ],
      "text/plain": [
       "   id name  new_update\n",
       "0   0    A           1\n",
       "1   1    B           1"
      ]
     },
     "execution_count": 6,
     "metadata": {},
     "output_type": "execute_result"
    }
   ],
   "source": [
    "output_df = input_df.copy()\n",
    "output_df['new_update'] = 1\n",
    "output_df"
   ]
  },
  {
   "cell_type": "code",
   "execution_count": 7,
   "metadata": {},
   "outputs": [
    {
     "data": {
      "text/markdown": [
       "Stored `output_df` (D0B714E7 → D0B714E7) at Tuesday, 31. Mar 2020 21:14"
      ],
      "text/plain": [
       "<IPython.core.display.Markdown object>"
      ]
     },
     "metadata": {
      "text/markdown": {
       "action": "store",
       "command": "store output_df in test_result",
       "finished": "2020-03-31T21:14:49.284968",
       "finished_human_readable": "Tuesday, 31. Mar 2020 21:14",
       "result": [
        {
         "new_file": {
          "crc32": "D0B714E7",
          "sha256": "E0E67376A5D3801AF31536DE052E22B60F16DF00647E034A977DD12C68970511"
         },
         "old_file": {
          "crc32": "D0B714E7",
          "sha256": "E0E67376A5D3801AF31536DE052E22B60F16DF00647E034A977DD12C68970511"
         },
         "subject": "output_df"
        }
       ],
       "started": "2020-03-31T21:14:49.171249"
      }
     },
     "output_type": "display_data"
    }
   ],
   "source": [
    "%vault store output_df in test_result"
   ]
  },
  {
   "cell_type": "code",
   "execution_count": 8,
   "metadata": {},
   "outputs": [],
   "source": [
    "from pandas import read_table"
   ]
  },
  {
   "cell_type": "code",
   "execution_count": 9,
   "metadata": {},
   "outputs": [
    {
     "data": {
      "text/markdown": [
       "Imported `input_2` (3213A9CE) at Tuesday, 31. Mar 2020 21:14"
      ],
      "text/plain": [
       "<IPython.core.display.Markdown object>"
      ]
     },
     "metadata": {
      "text/markdown": {
       "action": "import",
       "command": "import 'io/input_df' as input_2 with read_table",
       "finished": "2020-03-31T21:14:49.359373",
       "finished_human_readable": "Tuesday, 31. Mar 2020 21:14",
       "result": [
        {
         "new_file": {
          "crc32": "3213A9CE",
          "sha256": "164B9312CAA922112011F6EF3A55CF3A8124A19457EFC33594ADEF477F9C8B56"
         },
         "subject": "input_2"
        }
       ],
       "started": "2020-03-31T21:14:49.303939"
      }
     },
     "output_type": "display_data"
    }
   ],
   "source": [
    "%vault import 'io/input_df' as input_2 with read_table"
   ]
  },
  {
   "cell_type": "markdown",
   "metadata": {},
   "source": [
    "Reloading should be ignored (to prevent cycles creation):"
   ]
  },
  {
   "cell_type": "code",
   "execution_count": null,
   "metadata": {
    "collapsed": false,
    "jupyter": {
     "outputs_hidden": false
    },
    "pycharm": {
     "name": "#%%\n"
    }
   },
   "outputs": [],
   "source": [
    "%vault import output_df from test_result"
   ]
  },
  {
   "cell_type": "markdown",
   "metadata": {},
   "source": [
    "Export of multiple variable should be recognised and split into two atomic exports:"
   ]
  },
  {
   "cell_type": "code",
   "execution_count": null,
   "metadata": {},
   "outputs": [],
   "source": [
    "a, b = 1, 2\n",
    "%vault store a, b in test_result"
   ]
  },
  {
   "cell_type": "code",
   "execution_count": null,
   "metadata": {},
   "outputs": [],
   "source": [
    "c = 3\n",
    "%vault store c as z in test_result"
   ]
  }
 ],
 "metadata": {
  "kernelspec": {
   "display_name": "Python 3",
   "language": "python",
   "name": "python3"
  },
  "language_info": {
   "codemirror_mode": {
    "name": "ipython",
    "version": 3
   },
   "file_extension": ".py",
   "mimetype": "text/x-python",
   "name": "python",
   "nbconvert_exporter": "python",
   "pygments_lexer": "ipython3",
   "version": "3.8.1"
  }
 },
 "nbformat": 4,
 "nbformat_minor": 4
}
